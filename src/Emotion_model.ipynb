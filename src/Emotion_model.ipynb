{
 "cells": [
  {
   "cell_type": "code",
   "execution_count": 1,
   "metadata": {
    "scrolled": true
   },
   "outputs": [
    {
     "ename": "RuntimeError",
     "evalue": "module compiled against API version 0xb but this version of numpy is 0xa",
     "output_type": "error",
     "traceback": [
      "\u001b[0;31m---------------------------------------------------------------------------\u001b[0m",
      "\u001b[0;31mRuntimeError\u001b[0m                              Traceback (most recent call last)",
      "\u001b[0;31mRuntimeError\u001b[0m: module compiled against API version 0xb but this version of numpy is 0xa"
     ]
    },
    {
     "ename": "ImportError",
     "evalue": "numpy.core.multiarray failed to import",
     "output_type": "error",
     "traceback": [
      "\u001b[0;31m---------------------------------------------------------------------------\u001b[0m",
      "\u001b[0;31mImportError\u001b[0m                               Traceback (most recent call last)",
      "\u001b[0;32m<ipython-input-1-ef333cfc5c10>\u001b[0m in \u001b[0;36m<module>\u001b[0;34m()\u001b[0m\n\u001b[1;32m      1\u001b[0m \u001b[0;32mimport\u001b[0m \u001b[0mnumpy\u001b[0m\u001b[0;34m\u001b[0m\u001b[0m\n\u001b[1;32m      2\u001b[0m \u001b[0;32mimport\u001b[0m \u001b[0mnumpy\u001b[0m \u001b[0;32mas\u001b[0m \u001b[0mnp\u001b[0m\u001b[0;34m\u001b[0m\u001b[0m\n\u001b[0;32m----> 3\u001b[0;31m \u001b[0;32mimport\u001b[0m \u001b[0mtorch\u001b[0m\u001b[0;34m\u001b[0m\u001b[0m\n\u001b[0m\u001b[1;32m      4\u001b[0m \u001b[0;32mimport\u001b[0m \u001b[0mtorch\u001b[0m\u001b[0;34m.\u001b[0m\u001b[0mnn\u001b[0m \u001b[0;32mas\u001b[0m \u001b[0mnn\u001b[0m\u001b[0;34m\u001b[0m\u001b[0m\n\u001b[1;32m      5\u001b[0m \u001b[0;32mimport\u001b[0m \u001b[0mtorch\u001b[0m\u001b[0;34m.\u001b[0m\u001b[0mnn\u001b[0m\u001b[0;34m.\u001b[0m\u001b[0mfunctional\u001b[0m \u001b[0;32mas\u001b[0m \u001b[0mF\u001b[0m\u001b[0;34m\u001b[0m\u001b[0m\n",
      "\u001b[0;32m/Users/zhenyu_li/anaconda/lib/python3.6/site-packages/torch/__init__.py\u001b[0m in \u001b[0;36m<module>\u001b[0;34m()\u001b[0m\n\u001b[1;32m     51\u001b[0m \u001b[0msys\u001b[0m\u001b[0;34m.\u001b[0m\u001b[0msetdlopenflags\u001b[0m\u001b[0;34m(\u001b[0m\u001b[0m_dl_flags\u001b[0m\u001b[0;34m.\u001b[0m\u001b[0mRTLD_GLOBAL\u001b[0m \u001b[0;34m|\u001b[0m \u001b[0m_dl_flags\u001b[0m\u001b[0;34m.\u001b[0m\u001b[0mRTLD_NOW\u001b[0m\u001b[0;34m)\u001b[0m\u001b[0;34m\u001b[0m\u001b[0m\n\u001b[1;32m     52\u001b[0m \u001b[0;34m\u001b[0m\u001b[0m\n\u001b[0;32m---> 53\u001b[0;31m \u001b[0;32mfrom\u001b[0m \u001b[0mtorch\u001b[0m\u001b[0;34m.\u001b[0m\u001b[0m_C\u001b[0m \u001b[0;32mimport\u001b[0m \u001b[0;34m*\u001b[0m\u001b[0;34m\u001b[0m\u001b[0m\n\u001b[0m\u001b[1;32m     54\u001b[0m \u001b[0;34m\u001b[0m\u001b[0m\n\u001b[1;32m     55\u001b[0m __all__ += [name for name in dir(_C)\n",
      "\u001b[0;31mImportError\u001b[0m: numpy.core.multiarray failed to import"
     ]
    }
   ],
   "source": [
    "import numpy\n",
    "import numpy as np\n",
    "import torch\n",
    "import torch.nn as nn\n",
    "import torch.nn.functional as F\n",
    "import torch.optim as optim\n",
    "from torchvision import datasets, transforms\n",
    "from torch.autograd import Variable\n",
    "from torch import utils\n",
    "#from matplotlib.pyplot import *\n",
    "import matplotlib.pyplot as plt\n",
    "from PIL import Image\n",
    "import pickle\n",
    "\n",
    "\n",
    "with open('data.pickle', 'rb') as f:\n",
    "    data  = pickle.load(f)\n",
    "\n",
    "\n",
    "\n",
    "X = np.array( data['XTr']/255.0, dtype ='f') #normalize \n",
    "y = data['yTr']                            #training images\n",
    "yTe = data['yTe']\n",
    "xTe =np.array( data['XTe']/255.0, dtype='f')\n",
    "print (len(X), len(xTe))\n",
    "\n",
    "\n",
    "\n",
    "\n",
    "\n",
    "\n",
    "class Model(nn.Module):\n",
    "    def __init__(self):\n",
    "        super(Model, self).__init__()\n",
    "        # input is 128x128\n",
    "        # padding=2 \n",
    "        self.conv1 = nn.Conv2d(1, 96, 7, padding = 2)\n",
    "        self.conv2 = nn.Conv2d(96, 256, 5, padding = 2)\n",
    "        self.conv3 = nn.Conv2d(256, 512, 3, padding = 2)\n",
    "        self.conv4 = nn.Conv2d(512, 512, 3, padding = 2)\n",
    "        self.conv5 = nn.Conv2d(512, 512, 3, padding = 2)\n",
    "    \n",
    "        self.fc1 = nn.Linear(512*16*16, 4048)\n",
    "        self.fc2 = nn.Linear(4048, 4049) #1024\n",
    "        self.fc3 = nn.Linear(4049, 7)\n",
    "        \n",
    "    def forward(self, x):\n",
    "        x = F.max_pool2d(F.relu(self.conv1(x)), 3)\n",
    "        x = F.max_pool2d(F.relu(self.conv2(x)), 2)\n",
    "        x = F.relu(self.conv3(x))\n",
    "        x = F.relu(self.conv4(x))\n",
    "        x = F.max_pool2d(F.relu(self.conv5(x)), 3)\n",
    "        # return x\n",
    "        x = x.view(-1, 512*16*16)   # reshape Variable\n",
    "        x = F.relu(self.fc1(x))\n",
    "        x = F.dropout(x, training=self.training)\n",
    "        x = F.relu(self.fc2(x))\n",
    "        x = F.dropout(x, training=self.training)\n",
    "        x = self.fc3(x)\n",
    "        return F.log_softmax(x)\n"
   ]
  },
  {
   "cell_type": "code",
   "execution_count": null,
   "metadata": {
    "collapsed": true
   },
   "outputs": [],
   "source": [
    "class NaiveModel(nn.Module):\n",
    "    def __init__(self):\n",
    "        super(NaiveModel, self).__init__()\n",
    "        # input is 128x128\n",
    "        # padding=2 \n",
    "        self.conv1 = nn.Conv2d(1, 4, 11, padding = 2)\n",
    "        # self.conv2 = nn.Conv2d(96, 256, 5, padding = 2)\n",
    "        # self.conv3 = nn.Conv2d(256, 512, 3, padding = 2)\n",
    "        # self.conv4 = nn.Conv2d(512, 512, 3, padding = 2)\n",
    "        # self.conv5 = nn.Conv2d(512, 512, 3, padding = 2)\n",
    "    \n",
    "        self.fc1 = nn.Linear(4*83*83, 7)\n",
    "        # self.fc2 = nn.Linear(4048, 4049) #1024\n",
    "        # self.fc3 = nn.Linear(4049, 7)\n",
    "        \n",
    "    def forward(self, x):\n",
    "        x = F.max_pool2d(F.relu(self.conv1(x)), 3)\n",
    "        # x = F.max_pool2d(F.relu(self.conv2(x)), 2)\n",
    "        # x = F.relu(self.conv3(x))\n",
    "        # x = F.relu(self.conv4(x))\n",
    "        # x = F.max_pool2d(F.relu(self.conv5(x)), 3)\n",
    "        x = x.view(-1, 4*83*83)   # reshape Variable\n",
    "        x = F.relu(self.fc1(x))\n",
    "        return F.log_softmax(x)\n"
   ]
  },
  {
   "cell_type": "code",
   "execution_count": null,
   "metadata": {
    "collapsed": true
   },
   "outputs": [],
   "source": [
    "model = NaiveModel()\n",
    "\n",
    "n = len(y)\n",
    "\n",
    "#print ('ylength', n)\n",
    "#print ('testLength', nTest)\n",
    "batch_size = 30\n",
    "model.train()\n",
    "optimizer = optim.Adam(model.parameters())\n",
    "\n",
    "train_loss = []\n",
    "train_accu = []\n",
    "test_loss = []\n",
    "test_accu = []\n",
    "\n",
    "def testing_acc():\n",
    "\n",
    "    model.eval()\n",
    "\n",
    "    n_test = len(yTe)\n",
    "    correct = 0\n",
    "    for i in range(n_test//20): #batch size = 20 \n",
    "        teX = xTe[i*20:(i+1)*20,:,:,:]\n",
    "        testX = torch.from_numpy(teX)\n",
    "\n",
    "        tey = yTe[i*20:(i+1)*20]\n",
    "        testy = torch.from_numpy(tey)\n",
    "\n",
    "        testingX, testing_label = Variable(testX, volatile = True), Variable(testy)\n",
    "        testingOut = model(testingX)\n",
    "        prediction = testingOut.data.max(1)[1]\n",
    "        correct += prediction.eq(testing_label.data).sum()\n",
    "        test_accuracy = 100. * correct / n_test\n",
    "        test_accu.append(test_accuracy)\n",
    "    print('\\nTest set: Accuracy: {:.3f}'.format(test_accuracy))\n",
    "\n",
    "    #plt.plot(np.arange(len(train_accu)), train_accu)\n",
    "    #plt.show()\n",
    "\n",
    "\n",
    "j = 0\n",
    "#train the model\n",
    "for epoch in range(10):\n",
    "    for i in range(n//batch_size):\n",
    "        optimizer.zero_grad()\n",
    "        yD  =  y[i*batch_size:(i+1)*batch_size]\n",
    "        #print (yD)\n",
    "        yy = torch.from_numpy(yD)\n",
    "        #print ('label', Variable(yy))\n",
    "        train_label = Variable(yy)\n",
    "        #print (train_label)\n",
    "        xD  =  X[i*batch_size:(i+1)*batch_size,:,:,:]\n",
    "        xx = torch.from_numpy(xD) # creates a tensor \n",
    "        xOut = model.forward(Variable(xx))\n",
    "        #break\n",
    "        loss = F.nll_loss(xOut, train_label)\n",
    "        loss.backward()    # calc gradients\n",
    "        train_loss.append(loss.data[0])\n",
    "        optimizer.step()   # update gradients\n",
    "        #print (xOut)\n",
    "        Train_prediction = xOut.data.max(1)[1]   \n",
    "        #print (\"pre\", xOut.data.max(1)[1])\n",
    "        #print (xOut.data)\n",
    "        trainAccuracy = Train_prediction.eq(train_label.data).sum()/batch_size*100\n",
    "        #print (trainAccuracy)\n",
    "        train_accu.append(trainAccuracy)\n",
    "        if j % 10 == 0:\n",
    "            print('Train Step: {}\\t\\tLoss: {:.3f}\\tAccuracy: {:.3f}'.format(j, loss.data[0], trainAccuracy))\n",
    "        #if j % 100 == 0: \n",
    "            #pass\n",
    "            #testing_acc()\n",
    "        j += 1\n",
    "\n",
    "    print ('epoch')\n",
    "    testing_acc()"
   ]
  },
  {
   "cell_type": "code",
   "execution_count": null,
   "metadata": {
    "collapsed": true
   },
   "outputs": [],
   "source": [
    "x = np.arange(0, 100)\n",
    "plt.plot(train_accu, test_accu)\n",
    "plt.show()"
   ]
  },
  {
   "cell_type": "code",
   "execution_count": null,
   "metadata": {
    "collapsed": true
   },
   "outputs": [],
   "source": [
    "print (train_accu)\n",
    "print (test_accu)"
   ]
  },
  {
   "cell_type": "code",
   "execution_count": null,
   "metadata": {
    "collapsed": true
   },
   "outputs": [],
   "source": []
  },
  {
   "cell_type": "code",
   "execution_count": null,
   "metadata": {
    "collapsed": true
   },
   "outputs": [],
   "source": []
  }
 ],
 "metadata": {
  "kernelspec": {
   "display_name": "Python 3",
   "language": "python",
   "name": "python3"
  },
  "language_info": {
   "codemirror_mode": {
    "name": "ipython",
    "version": 3
   },
   "file_extension": ".py",
   "mimetype": "text/x-python",
   "name": "python",
   "nbconvert_exporter": "python",
   "pygments_lexer": "ipython3",
   "version": "3.6.1"
  }
 },
 "nbformat": 4,
 "nbformat_minor": 2
}
